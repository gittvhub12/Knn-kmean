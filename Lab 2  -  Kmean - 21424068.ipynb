{
 "cells": [
  {
   "cell_type": "markdown",
   "id": "116039bc",
   "metadata": {},
   "source": [
    "## Lab 2 - Clustering\n",
    "\n",
    "Trong Lab này, sinh viên sẽ rèn luyện cách cài đặt thuật toán K-mean và áp dụng thuật toán K-mean vào tập dữ liệu về ngân hàng.\n",
    "\n",
    "Cập nhật lần cuối: 30/07/2022 \n",
    "\n",
    "Họ tên: Nguyễn Nguyên Văn\n",
    "\n",
    "MSSV: 21424068"
   ]
  },
  {
   "cell_type": "markdown",
   "id": "ba1acd40",
   "metadata": {},
   "source": [
    "&#127827; *Trong bài tập này, các bạn chỉ được phép sử dụng các thư viện Standard Python Library và numpy, pandas, matplotlib. Các thư viện hỗ trơ (đặc biệt là thư viện Sklearn, Keras, ) là không được phép.*\n",
    "\n",
    "&#127802; Sinh viên lưu ý mình sẽ dùng chương trình hỗ trợ chấm bài nên bạn cần phải tuân thủ chính xác qui định mà mình đặt ra, nếu không rõ thì hỏi, chứ không nên tự tiện làm theo ý của cá nhân.\n",
    "\n",
    "**Cách làm bài**\n",
    "\n",
    "Bạn sẽ làm trực tiếp trên file Python notebook này. Đầu tiên, bạn điền họ tên và MSSV vào phần đầu file ở bên trên. Trong file, bạn làm bài ở những chỗ có ghi là:\n",
    "\n",
    "```python\n",
    "# YOUR CODE HERE\n",
    "raise NotImplementedError()\n",
    "```\n",
    "hoặc đối với những phần code không bắt buộc thì là:\n",
    "```python\n",
    "# YOUR CODE HERE (OPTION)\n",
    "```\n",
    "\n",
    "Tất nhiên, khi làm thì bạn xóa dòng `raise NotImplementedError()` đi.\n",
    "Đối những phần yêu cầu code thì thường ở ngay phía dưới sẽ có một (hoặc một số) cell chứa các bộ test để giúp bạn biết đã code đúng hay chưa; nếu chạy cell này không có lỗi gì thì có nghĩa là qua được các bộ test. Trong một số trường hợp, các bộ test có thể sẽ không đầy đủ; nghĩa là, nếu không qua được test thì là code sai, nhưng nếu qua được test thì chưa chắc đã đúng hoàn toàn.\n",
    "\n",
    "Trong khi làm bài, bạn có thể cho in ra màn hình, tạo thêm các cell để test. Nhưng khi nộp bài thì bạn xóa các cell mà bạn tự tạo, xóa hoặc comment các câu lệnh in ra màn hình. Bạn lưu ý <font color=red>không được tự tiện xóa các cell hay sửa code của Thầy</font> (trừ những chỗ được phép sửa như đã nói ở trên).\n",
    "\n",
    "\n",
    "Trong khi làm bài, thường xuyên `Ctrl + S` để lưu lại bài làm của bạn, tránh mất mát thông tin.\n",
    "\n",
    "Bạn có thể thảo luận ý tưởng với bạn khác hoặc từ các nguồn khác, nhưng code và bài làm phải là của bạn, dựa trên sự hiểu thật sự của bạn. Nếu vi phạm thì sẽ bị 0 điểm cho toàn bộ môn học.\n",
    "\n",
    "**Cách nộp bài**\n",
    "\n",
    "Khi chấm bài, đầu tiên mình sẽ chọn `Kernel` - `Restart & Run All` để restart và chạy tất cả các cell trong notebook của bạn; do đó, trước khi nộp bài, bạn nên chạy thử `Kernel` - `Restart & Run All` để đảm bảo mọi chuyện diễn ra đúng như mong đợi.\n",
    "\n",
    "Sau đó, bạn tạo thư mục nộp bài theo cấu trúc sau:\n",
    "- Thư mục `MSSV` (vd, nếu bạn có MSSV là 123 thì bạn đặt tên thư mục là `123`)\n",
    "    - File `Lab 2 - Kmean - SV.ipynb`\n",
    "- Các bạn nén lại MSSV.zip (*.zip chứ không phải .rar hay gì khác)\n",
    "\n",
    "Cuối cùng, bạn nén thư mục `MSSV` này lại và nộp ở link trên moodle. <font color=red>Bạn lưu ý tuân thủ chính xác qui định nộp bài.</font>"
   ]
  },
  {
   "cell_type": "markdown",
   "id": "7aa6d47f",
   "metadata": {},
   "source": [
    "# 1. Đọc và khám phá dữ liệu "
   ]
  },
  {
   "cell_type": "code",
   "execution_count": 1,
   "id": "ea61a627",
   "metadata": {},
   "outputs": [],
   "source": [
    "import numpy as np\n",
    "import os\n",
    "import pandas as pd\n",
    "import matplotlib.pyplot as plt\n",
    "%matplotlib inline"
   ]
  },
  {
   "cell_type": "markdown",
   "id": "1fa09c14",
   "metadata": {},
   "source": [
    "**Giới thiệu về dữ liệu về tập khách hàng của ngân hàng**\n",
    "- Dữ liệu về tập khách hàng của ngân hàng được lưu vào file ```bank.csv```. \n",
    "<br>\n",
    "\n",
    "- Bộ dữ liệu gồm hai cột: \n",
    "    + annual_income: thể hiện thu nhập hàng năm của khách hàng. (Đơn vị nghìn USD)\n",
    "    + spending_socre: điểm tiêm dùng, được chấm dựa theo chi tiêu trong năm của khách hàng. (Đơn vị nghìn USD)\n",
    "<br> \n",
    "    \n",
    "    \n",
    "- **Ngân hàng mong muốn dựa vào hai tiêu chí trên để phân chia tất cả các khách hàng thành 3 nhóm**, để mỗi nhóm có thể được chỉ định cho một người quản lý khác nhau."
   ]
  },
  {
   "cell_type": "markdown",
   "id": "ea5e4e27",
   "metadata": {},
   "source": [
    "- Nhiệm vụ của sinh viên, đọc dữ liệu ngân hàng, được lưu trong file ```bank.csv```. Dùng thư viện ```pandas```\n",
    "- Sinh viên tham khảo hàm ```pandas.read_csv```\n",
    "- Kết quả được lưu vào biến ```bank_df```"
   ]
  },
  {
   "cell_type": "code",
   "execution_count": 2,
   "id": "9756219f",
   "metadata": {},
   "outputs": [],
   "source": [
    "bank_df = pd.read_csv('bank.csv')"
   ]
  },
  {
   "cell_type": "code",
   "execution_count": 3,
   "id": "88cc0489",
   "metadata": {},
   "outputs": [],
   "source": [
    "# TEST\n",
    "assert bank_df.shape == (903, 2)"
   ]
  },
  {
   "cell_type": "markdown",
   "id": "998207e9",
   "metadata": {},
   "source": [
    "- Để có thể có cái nhìn rộng hơn về dữ liệu. Ta có thểm dùng hàm ```sample(10)```, để biểu diễn 10 dòng dữ liệu một cách ngẫu nhiên. Ngoài ra, bạn có thể tham khảo các hàm khác như ```describe(), head(), ...```"
   ]
  },
  {
   "cell_type": "code",
   "execution_count": 4,
   "id": "b753f850",
   "metadata": {},
   "outputs": [
    {
     "data": {
      "text/html": [
       "<div>\n",
       "<style scoped>\n",
       "    .dataframe tbody tr th:only-of-type {\n",
       "        vertical-align: middle;\n",
       "    }\n",
       "\n",
       "    .dataframe tbody tr th {\n",
       "        vertical-align: top;\n",
       "    }\n",
       "\n",
       "    .dataframe thead th {\n",
       "        text-align: right;\n",
       "    }\n",
       "</style>\n",
       "<table border=\"1\" class=\"dataframe\">\n",
       "  <thead>\n",
       "    <tr style=\"text-align: right;\">\n",
       "      <th></th>\n",
       "      <th>annual_income</th>\n",
       "      <th>spending_score</th>\n",
       "    </tr>\n",
       "  </thead>\n",
       "  <tbody>\n",
       "    <tr>\n",
       "      <th>790</th>\n",
       "      <td>78.756366</td>\n",
       "      <td>35.994451</td>\n",
       "    </tr>\n",
       "    <tr>\n",
       "      <th>872</th>\n",
       "      <td>79.956547</td>\n",
       "      <td>46.953266</td>\n",
       "    </tr>\n",
       "    <tr>\n",
       "      <th>686</th>\n",
       "      <td>62.991254</td>\n",
       "      <td>45.737181</td>\n",
       "    </tr>\n",
       "    <tr>\n",
       "      <th>561</th>\n",
       "      <td>96.838345</td>\n",
       "      <td>83.972295</td>\n",
       "    </tr>\n",
       "    <tr>\n",
       "      <th>167</th>\n",
       "      <td>31.528165</td>\n",
       "      <td>63.794374</td>\n",
       "    </tr>\n",
       "    <tr>\n",
       "      <th>557</th>\n",
       "      <td>83.041032</td>\n",
       "      <td>76.937119</td>\n",
       "    </tr>\n",
       "    <tr>\n",
       "      <th>758</th>\n",
       "      <td>69.033096</td>\n",
       "      <td>36.636305</td>\n",
       "    </tr>\n",
       "    <tr>\n",
       "      <th>888</th>\n",
       "      <td>71.664792</td>\n",
       "      <td>32.941274</td>\n",
       "    </tr>\n",
       "    <tr>\n",
       "      <th>722</th>\n",
       "      <td>74.081117</td>\n",
       "      <td>38.508222</td>\n",
       "    </tr>\n",
       "    <tr>\n",
       "      <th>664</th>\n",
       "      <td>67.314874</td>\n",
       "      <td>39.438484</td>\n",
       "    </tr>\n",
       "  </tbody>\n",
       "</table>\n",
       "</div>"
      ],
      "text/plain": [
       "     annual_income  spending_score\n",
       "790      78.756366       35.994451\n",
       "872      79.956547       46.953266\n",
       "686      62.991254       45.737181\n",
       "561      96.838345       83.972295\n",
       "167      31.528165       63.794374\n",
       "557      83.041032       76.937119\n",
       "758      69.033096       36.636305\n",
       "888      71.664792       32.941274\n",
       "722      74.081117       38.508222\n",
       "664      67.314874       39.438484"
      ]
     },
     "execution_count": 4,
     "metadata": {},
     "output_type": "execute_result"
    }
   ],
   "source": [
    "bank_df.sample(10)"
   ]
  },
  {
   "cell_type": "markdown",
   "id": "945b7cdc",
   "metadata": {},
   "source": [
    "- Ngoài ra, ta cũng có thể sử dụng lệnh ```pandas.describe()``` được sử dụng để xem một số chi tiết thống kê cơ bản như phân vị, trung bình, std, v.v. của một DataFrame"
   ]
  },
  {
   "cell_type": "code",
   "execution_count": 5,
   "id": "56d5b275",
   "metadata": {},
   "outputs": [
    {
     "data": {
      "text/html": [
       "<div>\n",
       "<style scoped>\n",
       "    .dataframe tbody tr th:only-of-type {\n",
       "        vertical-align: middle;\n",
       "    }\n",
       "\n",
       "    .dataframe tbody tr th {\n",
       "        vertical-align: top;\n",
       "    }\n",
       "\n",
       "    .dataframe thead th {\n",
       "        text-align: right;\n",
       "    }\n",
       "</style>\n",
       "<table border=\"1\" class=\"dataframe\">\n",
       "  <thead>\n",
       "    <tr style=\"text-align: right;\">\n",
       "      <th></th>\n",
       "      <th>annual_income</th>\n",
       "      <th>spending_score</th>\n",
       "    </tr>\n",
       "  </thead>\n",
       "  <tbody>\n",
       "    <tr>\n",
       "      <th>count</th>\n",
       "      <td>903.000000</td>\n",
       "      <td>903.000000</td>\n",
       "    </tr>\n",
       "    <tr>\n",
       "      <th>mean</th>\n",
       "      <td>63.963292</td>\n",
       "      <td>61.615061</td>\n",
       "    </tr>\n",
       "    <tr>\n",
       "      <th>std</th>\n",
       "      <td>27.057446</td>\n",
       "      <td>23.218188</td>\n",
       "    </tr>\n",
       "    <tr>\n",
       "      <th>min</th>\n",
       "      <td>7.328044</td>\n",
       "      <td>9.951149</td>\n",
       "    </tr>\n",
       "    <tr>\n",
       "      <th>25%</th>\n",
       "      <td>35.715005</td>\n",
       "      <td>40.009135</td>\n",
       "    </tr>\n",
       "    <tr>\n",
       "      <th>50%</th>\n",
       "      <td>72.013811</td>\n",
       "      <td>60.795590</td>\n",
       "    </tr>\n",
       "    <tr>\n",
       "      <th>75%</th>\n",
       "      <td>84.014393</td>\n",
       "      <td>82.617294</td>\n",
       "    </tr>\n",
       "    <tr>\n",
       "      <th>max</th>\n",
       "      <td>210.156000</td>\n",
       "      <td>112.999618</td>\n",
       "    </tr>\n",
       "  </tbody>\n",
       "</table>\n",
       "</div>"
      ],
      "text/plain": [
       "       annual_income  spending_score\n",
       "count     903.000000      903.000000\n",
       "mean       63.963292       61.615061\n",
       "std        27.057446       23.218188\n",
       "min         7.328044        9.951149\n",
       "25%        35.715005       40.009135\n",
       "50%        72.013811       60.795590\n",
       "75%        84.014393       82.617294\n",
       "max       210.156000      112.999618"
      ]
     },
     "execution_count": 5,
     "metadata": {},
     "output_type": "execute_result"
    }
   ],
   "source": [
    "bank_df.describe()"
   ]
  },
  {
   "cell_type": "markdown",
   "id": "bd842048",
   "metadata": {},
   "source": [
    "- Một số nhận xét:\n",
    "    + Về cơ bản, dữ liệu không có gì bất thường.\n",
    "    + Ta nhìn vào cột count (số điểm dữ liệu). Cả hai cột đều bằng 903 (kích thước ban đầu của dữ liệu). Có nghĩa là dữ liệu không bị thiếu."
   ]
  },
  {
   "cell_type": "markdown",
   "id": "951e8909",
   "metadata": {},
   "source": [
    "# 2. Chuẩn bị dữ liệu"
   ]
  },
  {
   "cell_type": "markdown",
   "id": "c7655a3b",
   "metadata": {},
   "source": [
    "- Ta sẽ biểu diễn dữ liệu và xem xét một cách tổng quan nhất."
   ]
  },
  {
   "cell_type": "code",
   "execution_count": 6,
   "id": "4e1ee56b",
   "metadata": {},
   "outputs": [
    {
     "data": {
      "text/plain": [
       "<matplotlib.collections.PathCollection at 0x2b1f53f4490>"
      ]
     },
     "execution_count": 6,
     "metadata": {},
     "output_type": "execute_result"
    },
    {
     "data": {
      "image/png": "[encoded data removed]",
      "text/plain": [
       "<Figure size 432x288 with 1 Axes>"
      ]
     },
     "metadata": {
      "needs_background": "light"
     },
     "output_type": "display_data"
    }
   ],
   "source": [
    "plt.scatter(bank_df[\"annual_income\"], bank_df[\"spending_score\"])"
   ]
  },
  {
   "cell_type": "markdown",
   "id": "35f5ac2a",
   "metadata": {},
   "source": [
    "- Các bạn đưa ra nhận xét về dữ liệu. \n",
    "- Dữ liệu phân bố như thế nào? Tại sao lại áp dụng thuật toán phân cụm?\n",
    "- Ta nên chọn giá trị K là bao nhiêu?\n",
    "- Dữ liệu có điểm ngoại lai (outlier) không?"
   ]
  },
  {
   "cell_type": "markdown",
   "id": "1ac1d10d",
   "metadata": {},
   "source": [
    "*YOUR ANSWER HERE*\n",
    "- Có rất nhiều dữ liệu và chúng phân bố trong khoảng :\n",
    "    - Từ 7 đến 211 đối với 'annual_income'\n",
    "    - Từ 9 đến 113 đối với 'spending_score'\n",
    "- Dễ thấy dữ liệu phân bố theo từng vùng tập trung theo nhóm (3 nhóm lớn và có 3 điểm lẻ).\n",
    "- Vì dữ liệu tập trung thành các cụm lớn và rõ ràng rất phù hợp cho clustering\n",
    "- Ta nên cho giá trị k = 3\n",
    "- Sẽ có dữ liệu ngoại lai (cụ thể là 3 điểm)"
   ]
  },
  {
   "cell_type": "markdown",
   "id": "ca7234dd",
   "metadata": {},
   "source": [
    "## Loại bỏ dữ liệu ngoại lai (outlier)\n",
    "\n",
    "- Sau khi biểu diễn dữ liệu, có vẻ ta thấy dữ liệu có vài điểm bất thường (cụ thể là 3 điểm). Nằm khá xa so với phần lớn dữ liệu. Cụ thể, các điểm dữ liệu ngoại lai có trục x (trục annual_income) có giá trị lớn bất thường. \n",
    "- Việc xác nhận/đánh giá các điểm dữ liệu outlier này, cần những kiến thức chuyên môn (expert domain). Ở đây, chúng ta sẽ giải quyết đơn giản bằng các xóa các điểm dữ liệu này. "
   ]
  },
  {
   "cell_type": "markdown",
   "id": "5212eb7c",
   "metadata": {},
   "source": [
    "- Ở đây, ta sẽ sử dụng kỹ thuật \"Inter-Quartile Range Method\" để tìm ra điểm dữ liệu ngoại lai.\n",
    "- Inter-Quartile Range (được viết tắt là IQR). IQR được tính bằng công thức \n",
    "\n",
    "$$\n",
    "IQR = Q3 - Q1\n",
    "$$\n",
    "\n",
    "- Trong đó:\n",
    "    + Q1: được gọi là 'first quartile' của dữ liệu. Nói cách khác, 25% dữ liệu, sẽ nhỏ hơn Q1.\n",
    "    + Q3: được gọi là 'third quartile' của dữ liệu. Nói cách khác, 75% dữ liệu, sẽ nhỏ hơn Q3.\n",
    "    \n",
    "- Ta định nghĩa phạm vi quyết định (decision range), với công thức:\n",
    "    + Giới hạn dưới: $ Q1 - 1.5 * IQR $\n",
    "    + Giới hạn trên: $ Q3 + 1.5 * IQR $\n",
    "    \n",
    "- Các điểm dữ liệu nằm ngoài giới hạn dưới và giới hạn trên, được xem là điểm dữ liệu ngoại lai."
   ]
  },
  {
   "cell_type": "markdown",
   "id": "3ab70c96",
   "metadata": {},
   "source": [
    "- **Mình vừa cung cấp lý thuyết về IQR và điểm dữ liệu ngoại lai. Bây giờ, ta sẽ áp dụng vào bài toán của chúng ta, để xóa đi các điểm dữ liệu ngoại lai.**\n",
    "- Như đã phân tích bên trên, dữ liệu chúng ta chỉ bất thường ở trục x (truc ```annual_income```). Do đó, ta chỉ xét trục ```annual_income```. \n",
    "\n",
    "\n",
    "- Nhiệm vụ của sinh viên, tính các giá trị Q1, Q3, IQR và lưu vào các biến: ```q1_annual```, ```q3_annual```, ```iqr_annual```"
   ]
  },
  {
   "cell_type": "code",
   "execution_count": 7,
   "id": "82664a5b",
   "metadata": {},
   "outputs": [],
   "source": [
    "q1_annual = None\n",
    "q3_annual = None\n",
    "iqr_annual = None\n",
    "\n",
    "# YOUR CODE HERE\n",
    "bank_np = np.array(bank_df[\"annual_income\"])\n",
    "q1_annual = np.quantile(bank_np,0.25)\n",
    "q3_annual = np.quantile(bank_np,0.75)\n",
    "iqr_annual = q3_annual - q1_annual\n",
    "# raise NotImplementedError()"
   ]
  },
  {
   "cell_type": "code",
   "execution_count": 8,
   "id": "d404db05",
   "metadata": {},
   "outputs": [],
   "source": [
    "# TEST \n",
    "assert round(q1_annual) == 36\n",
    "assert round(q3_annual) == 84\n",
    "assert round(iqr_annual) == 48"
   ]
  },
  {
   "cell_type": "markdown",
   "id": "141fc371",
   "metadata": {},
   "source": [
    "- Tiếp theo, ta sẽ duyệt qua tất cả các điểm dữ liệu và kiểm tra xem. Điểm dữ liệu nào có giá trị thuộc tính ```annual_incom``` không nằm trong decision range. \n",
    "- Danh sách các điểm được lưu vào biến ```outlier_annual_list```. Trong đó ```outlier_annual_list``` là các một danh sách (list), với các phần tử là các số tương ứng biểu thị dòng dữ liệu được xem là ngoại lai."
   ]
  },
  {
   "cell_type": "code",
   "execution_count": 9,
   "id": "adcff72f",
   "metadata": {},
   "outputs": [],
   "source": [
    "outlier_annual_list = None\n",
    "\n",
    "# YOUR CODE HERE\n",
    "outlier_annual_list = []\n",
    "index = 0\n",
    "for i in bank_np:\n",
    "    if i > q3_annual + 1.5*iqr_annual or i < q1_annual - 1.5*iqr_annual:\n",
    "        outlier_annual_list.append(index)\n",
    "    index += 1 \n",
    "# raise NotImplementedError()"
   ]
  },
  {
   "cell_type": "code",
   "execution_count": 10,
   "id": "7c9dad9b",
   "metadata": {},
   "outputs": [],
   "source": [
    "# TEST \n",
    "assert outlier_annual_list == [900, 901, 902]"
   ]
  },
  {
   "cell_type": "markdown",
   "id": "f63a08fd",
   "metadata": {},
   "source": [
    "- Cuối cùng, ta xóa các điểm dữ liệu có chỉ số (index), trong danh sách ```outlier_annual_list```\n",
    "- Kết quả được cập nhật trực tiếp vào biến ```bank_df```."
   ]
  },
  {
   "cell_type": "code",
   "execution_count": 11,
   "id": "29fa19ce",
   "metadata": {},
   "outputs": [],
   "source": [
    "bank_df = bank_df.drop(outlier_annual_list)"
   ]
  },
  {
   "cell_type": "markdown",
   "id": "0442614f",
   "metadata": {},
   "source": [
    "## Kiểm tra lại dữ liệu sau khi xử lý\n",
    "\n",
    "- Đầu tiên, ta biểu diễn dữ liệu, để chắc chắn rằng mọi thứ vẫn bình thường?"
   ]
  },
  {
   "cell_type": "code",
   "execution_count": 12,
   "id": "4949e1bf",
   "metadata": {},
   "outputs": [
    {
     "data": {
      "text/plain": [
       "<matplotlib.collections.PathCollection at 0x2b1f5507bb0>"
      ]
     },
     "execution_count": 12,
     "metadata": {},
     "output_type": "execute_result"
    },
    {
     "data": {
      "image/png": "[encoded data removed]",
      "text/plain": [
       "<Figure size 432x288 with 1 Axes>"
      ]
     },
     "metadata": {
      "needs_background": "light"
     },
     "output_type": "display_data"
    }
   ],
   "source": [
    "plt.scatter(bank_df[\"annual_income\"], bank_df[\"spending_score\"])"
   ]
  },
  {
   "cell_type": "code",
   "execution_count": 13,
   "id": "02cbff07",
   "metadata": {},
   "outputs": [],
   "source": [
    "# TEST \n",
    "assert round(bank_df[\"annual_income\"].max()) == 109\n",
    "assert round(bank_df[\"annual_income\"].min()) == 7"
   ]
  },
  {
   "cell_type": "markdown",
   "id": "799acbd8",
   "metadata": {},
   "source": [
    "- Có vẻ dữ liệu đã ổn định hơn và các điểm ngoại lai đã biến mất. :)))"
   ]
  },
  {
   "cell_type": "markdown",
   "id": "a308e14c",
   "metadata": {},
   "source": [
    "**Dữ liệu huấn luyện**\n",
    "- Trong trường hợp này, ta sẽ dùng tất cả các điểm dữ liệu để phục vụ cho quá trình huấn luyện.\n",
    "- Lý do ta không tách thành tập training và testing là vì, ta vốn dĩ không có nhãn của các điểm dữ liệu, do đó không thể kiểm tra lại độ chính xác sau khi huấn luyện. "
   ]
  },
  {
   "cell_type": "markdown",
   "id": "6064c284",
   "metadata": {},
   "source": [
    "# 3. Cài đặt thuật toán K-mean\n",
    "\n",
    "Trong phần này, chúng ta sẽ cài đặt thuật toán K-mean, dùng để phân cụm các nhóm khách hàng bên trên. "
   ]
  },
  {
   "cell_type": "markdown",
   "id": "b216dd01",
   "metadata": {},
   "source": [
    "**Nhắc lại về thuật toán K-mean**\n",
    "\n",
    "- B1: chọn ngẫu nhiên k điểm dữ liệu làm điểm trung tâm (centroids).\n",
    "- B2: tính khoảng cách (Euclidean), giữa tất cả các điểm dữ liệu và các điểm trung tâm. \n",
    "- B3: gán mỗi điểm dữ liệu cho tâm gần nhất theo khoảng cách tìm được.\n",
    "- B4: cập nhật vị trí trung tâm bằng cách lấy giá trị trung bình của các điểm trong mỗi nhóm cụm.\n",
    "- B5: lập lại từ B2 đến B4 cho đến khi các điểm trung tâm không thay đổi."
   ]
  },
  {
   "cell_type": "markdown",
   "id": "9456f0b0",
   "metadata": {},
   "source": [
    "## Hàm tính khoảng cách\n",
    "\n",
    "- Đầu tiên, ta sẽ cài đặt hàm tính khoảng cách giữa các điểm dữ liệu.\n",
    "- Trong ví dụ này, ta sẽ sử dụng khoảng cách Euclidean. Với công thức: \n",
    "Gọi x là điểm có tọa độ là ($x_1$, $x_2$, ..., $x_n$), y có tọa độ là ($y_1$, $y_2$, ..., $y_n$). Khoảng cách giữa hai điểm x, y được định nghĩa:\n",
    "\n",
    "$$d(x, y) = \\sqrt{ (x_1 - y_1)^2 + (x_2 - y_2)^2 + ... +  (x_n - y_n)^2} $$\n",
    "\n",
    "- Nhiệm vụ của sinh viên, hàm thành hàm ```euclidean_distance``` bên dưới. *Gợi ý, sinh viên có thể tham khảo hàm numpy.linalg.norm*"
   ]
  },
  {
   "cell_type": "code",
   "execution_count": 14,
   "id": "c1539339",
   "metadata": {},
   "outputs": [],
   "source": [
    "def euclidean_distance(x, y):\n",
    "    \"\"\"\n",
    "    Function calculate the euclidean distance between two data point x and y\n",
    "    \n",
    "    * Parameter:\n",
    "    \n",
    "    x -- 1D numpy array, the first data point\n",
    "    y -- 1D numpy array, the second data point\n",
    "    \n",
    "    * Return:\n",
    "    dist -- a number, indicate the result distance \n",
    "    \"\"\"\n",
    "    \n",
    "    dist = None\n",
    "    \n",
    "    # YOUR CODE HERE\n",
    "    #dist = np.sum(np.sqrt((x-y)**2))\n",
    "    dist =  np.linalg.norm(x-y)\n",
    "    #raise NotImplementedError()\n",
    "    return dist"
   ]
  },
  {
   "cell_type": "code",
   "execution_count": 15,
   "id": "c81c90c1",
   "metadata": {},
   "outputs": [],
   "source": [
    "# TEST\n",
    "x = np.array([1, 1])\n",
    "y = np.array([1, -3])\n",
    "assert euclidean_distance(x, y) == 4"
   ]
  },
  {
   "cell_type": "markdown",
   "id": "1ed84a60",
   "metadata": {},
   "source": [
    "## Bước 1: chọn ngẫu nhiên k điểm dữ liệu làm điểm trung tâm (centroids)\n",
    "\n",
    "- Trong phần này, nhiệm vụ của sinh viên là cài đặt hàm ```kmean_init_centroids```. Hàm có nhiệm vụ khởi tạo K các điểm trung tâm ban đầu. "
   ]
  },
  {
   "cell_type": "code",
   "execution_count": 16,
   "id": "8317f02f",
   "metadata": {},
   "outputs": [],
   "source": [
    "def kmean_init_centroids(X, k):\n",
    "    \"\"\"\n",
    "    Function to intialize of centroids\n",
    "    \n",
    "    * Parameters:\n",
    "    X -- a 2D numpy array, the dataset\n",
    "    k -- a number, indicate the number of clusters\n",
    "    \n",
    "    * Returns:\n",
    "    centroids -- a 2D numpy array, indicate K centroid\n",
    "    \"\"\"\n",
    "    \n",
    "    centroids = None\n",
    "    # YOUR CODE HERE\n",
    "#     centroids =[]\n",
    "    centroids = X[np.random.choice(X.shape[0],k)]\n",
    "#     for i in range(len(index_rd)):\n",
    "#         tem = int(index_rd[i])\n",
    "#         centroids.append(X[tem])\n",
    "#     centroids = np.array(centroids)\n",
    "    #raise NotImplementedError()\n",
    "    return centroids\n"
   ]
  },
  {
   "cell_type": "code",
   "execution_count": 17,
   "id": "2001c910",
   "metadata": {},
   "outputs": [],
   "source": [
    "# TEST \n",
    "X = np.array([[1, 2, 3, 4, 5, 6, 7, 8, 9, 10]]).T\n",
    "k = 3 \n",
    "assert kmean_init_centroids(X, k).shape == (3, 1) "
   ]
  },
  {
   "cell_type": "markdown",
   "id": "1366628e",
   "metadata": {},
   "source": [
    "## B2: tính khoảng cách, giữa tất cả các điểm dữ liệu và các điểm trung tâm\n",
    "\n",
    "- Sinh viên hoàn thành hàm ```kmean_matrix_distance```. Hàm có nhiệm vụ tính khoảng cách giữa tất cả các điểm dữ liệu (X) và K điểm trung tâm (centroids). \n",
    "- Kết quả trả về của hàm là một ma trận khoảng cách (biến ```matrix_distances```) với kích thước ma trận là (N, k). Ví dụ: ```matrix_distances[i, j]``` nghĩa là khoảng cách giữa điểm thứ i trong tập dữ liệu và điểm thứ j trong tập centroids."
   ]
  },
  {
   "cell_type": "code",
   "execution_count": 18,
   "id": "bec4a845",
   "metadata": {},
   "outputs": [],
   "source": [
    "def kmean_matrix_distance(X, centroids):\n",
    "    \"\"\"\n",
    "    Function calculate the distance between every point in the dataset with the centroids.\n",
    "    \n",
    "    * Parameters:\n",
    "    X -- a 2D numpy array, indicate the dataset\n",
    "    centroids -- a 2D numpy array, indicate K centroids\n",
    "    \n",
    "    * Returns:\n",
    "    pair_distances -- a 2D numpy array, with shape (N, k). Indicate the distance between every point with K centroids.\n",
    "    \"\"\"\n",
    "    \n",
    "    matrix_distances = None\n",
    "    N = X.shape[0]\n",
    "    k = centroids.shape[0]\n",
    "\n",
    "    # YOUR CODE HERE\n",
    "    matrix_distances = []\n",
    "    for i in range(N):\n",
    "        temp = []\n",
    "        for j in range(k):\n",
    "            temp.append(euclidean_distance(X[i],centroids[j]))\n",
    "        matrix_distances.append(temp)\n",
    "    #raise NotImplementedError()\n",
    "    matrix_distances = np.array(matrix_distances)\n",
    "    return matrix_distances"
   ]
  },
  {
   "cell_type": "code",
   "execution_count": 19,
   "id": "b5ee6929",
   "metadata": {},
   "outputs": [],
   "source": [
    "# TEST \n",
    "X_test = np.array([[1, -1],\\\n",
    "                   [1, 1],\\\n",
    "                   [1, 3]])\n",
    "\n",
    "centroids_test = np.array([[1, 0],\\\n",
    "                           [1, 4]])\n",
    "\n",
    "matrix_distance_test = kmean_matrix_distance(X_test, centroids_test)\n",
    "assert (matrix_distance_test == np.array([[1., 5.], [1., 3.], [3., 1.]])).all() == True"
   ]
  },
  {
   "cell_type": "markdown",
   "id": "2df3fad5",
   "metadata": {},
   "source": [
    "## B3: gán mỗi điểm dữ liệu cho tâm gần nhất theo khoảng cách tìm được\n",
    "\n",
    "- Nhiệm vụ của sinh viên, cài đặt hàm ```kmean_assign_centroids```. Hàm có nhiệm vụ, nhận vào ma trận khoảng cách (biến matrix_distances) và gán nhãn (biến labels) cho các điểm dữ liệu theo tâm gần nhất)."
   ]
  },
  {
   "cell_type": "code",
   "execution_count": 20,
   "id": "9cdfd3c6",
   "metadata": {},
   "outputs": [],
   "source": [
    "def kmean_assign_centroids(matrix_distances):\n",
    "    \"\"\"\n",
    "    Function assign each data point to the closest centroid according to the distance found.\n",
    "    \n",
    "    * Parameters:\n",
    "    matrix_distances -- a 2D array, with shape (N, k), indicate distance between X and centroids.\n",
    "    \n",
    "    * Return:\n",
    "    labels -- a 1D numpy array, with shape (N,). Indicate the label of every data point in the dataset X.\n",
    "    \"\"\"\n",
    "    \n",
    "    labels = None\n",
    "    # YOUR CODE HERE\n",
    "#     labels = []\n",
    "#     min_local = 9999999\n",
    "#     for i in matrix_distance_test:\n",
    "#         for j in centroids_test:\n",
    "#             min_real = min_local\n",
    "#             min_local = min(euclidean_distance(i[0],j[0]),euclidean_distance(i[1],j[1]))\n",
    "#         labels.append(min(min_real,min_local))\n",
    "#     labels = np.array(labels)\n",
    "    labels = np.argmin(matrix_distances, axis = 1)\n",
    "    # return index of the closest center\n",
    "    #raise NotImplementedError()\n",
    "    \n",
    "    return labels"
   ]
  },
  {
   "cell_type": "code",
   "execution_count": 21,
   "id": "6061671b",
   "metadata": {},
   "outputs": [],
   "source": [
    "# TEST\n",
    "matrix_distance_test = np.array([[1., 5.], [1., 3.], [3., 1.]])\n",
    "labels_test = kmean_assign_centroids(matrix_distance_test)\n",
    "assert (labels_test == np.array([0, 0, 1])).all() == True"
   ]
  },
  {
   "cell_type": "markdown",
   "id": "a2ff8881",
   "metadata": {},
   "source": [
    "## B4: cập nhật vị trí trung tâm bằng cách lấy giá trị trung bình của các điểm trong mỗi nhóm cụm."
   ]
  },
  {
   "cell_type": "code",
   "execution_count": 22,
   "id": "d846338d",
   "metadata": {},
   "outputs": [],
   "source": [
    "def kmeans_update_centroids(X, labels, K):\n",
    "    \"\"\"\n",
    "    Function updata centroids by taking the mean of the points in each cluster.\n",
    "    \n",
    "    * Parameters:\n",
    "    X -- a 2D numpy array. \n",
    "    labels -- a 2D numpy array, with shape (N, 1). Indicate the label of every data point in the dataset X.\n",
    "    k -- a number, indicate the number of cluster.\n",
    "    \n",
    "    * Returns:\n",
    "    new_centroids -- a 2D numpy array, indicate the new centroids, which is computed by taking the average of each cluster.\n",
    "    \"\"\"\n",
    "    \n",
    "    new_centroids = None\n",
    "    \n",
    "    # YOUR CODE HERE\n",
    "    new_centroids = np.zeros(K*X.shape[1]).reshape(K,-1)\n",
    "    for i in range(K):\n",
    "            temp = X[labels == i, :]\n",
    "            new_centroids[i,:] = np.mean(temp, axis = 0)\n",
    "    #raise NotImplementedError()\n",
    "        \n",
    "    return new_centroids"
   ]
  },
  {
   "cell_type": "code",
   "execution_count": 23,
   "id": "15b2826d",
   "metadata": {},
   "outputs": [],
   "source": [
    "# TEST\n",
    "X_test = np.array([[1, -1],\\\n",
    "                   [1, 1],\\\n",
    "                   [1, 3]])\n",
    "\n",
    "labels_test = np.array([0, 0, 1])\n",
    "\n",
    "new_centroids_test = kmeans_update_centroids(X_test, labels_test, 2)\n",
    "assert  (new_centroids_test == np.array([[1., 0.], [1., 3.]])).all() == True"
   ]
  },
  {
   "cell_type": "markdown",
   "id": "e9397acf",
   "metadata": {},
   "source": [
    "## Hàm kiểm tra hội tụ\n",
    "\n",
    "- Ta cần kiểm tra xem, thuật toán K-mean đã đạt được điều kiện dừng chưa. Điều kiện dừng ở đây ta xét là điểm trung tâm mới và điểm trung tâm cũ không thay đổi.\n",
    "- Nhiêm vụ của sinh viên, cài đặt hàm ```has_converged```. Hàm có nhiệm vụ kiểm tra xem ```centroids``` và ```new_centroids``` có giống nhau không. Hàm trả về **True** nếu giống nhau, ngược lại là **False**."
   ]
  },
  {
   "cell_type": "code",
   "execution_count": 24,
   "id": "456c119a",
   "metadata": {
    "scrolled": true
   },
   "outputs": [],
   "source": [
    "def has_converged(centroids, new_centroids):\n",
    "    \"\"\"\n",
    "    Function to check whether centroids and new_centroids are the same\n",
    "    \n",
    "    * Parameters:\n",
    "    centroids -- a 2D numpy array, indicate K centroid (old centroids)\n",
    "    new_centroids -- a 2D numpy array, indicate K centroid (new centroids)\n",
    "    \n",
    "    * Return:\n",
    "    is_converged -- True/False corresponding\n",
    "    \"\"\"\n",
    "    is_converged = None\n",
    "    # YOUR CODE HERE\n",
    "    is_converged = (set([tuple(a)for a in centroids])==set([tuple(b)for b in new_centroids]))\n",
    "    #raise NotImplementedError()\n",
    "    return is_converged"
   ]
  },
  {
   "cell_type": "code",
   "execution_count": 25,
   "id": "edab83a5",
   "metadata": {},
   "outputs": [],
   "source": [
    "current_centroids = np.array([[1, 0],\\\n",
    "                              [1, 4]])\n",
    "\n",
    "new_centroids_1 = np.array([[1, 0],\\\n",
    "                            [1, 4]])\n",
    "\n",
    "new_centroids_2 = np.array([[100, 100],\\\n",
    "                            [100, 100]])\n",
    "\n",
    "assert has_converged(current_centroids, new_centroids_1) == True\n",
    "assert has_converged(current_centroids, new_centroids_2) == False\n"
   ]
  },
  {
   "cell_type": "markdown",
   "id": "305a5b7c",
   "metadata": {},
   "source": [
    "## Cài đặt thuật toán K-mean hoàn chỉnh\n",
    "\n",
    "- Sau khi đã hoàn thành các hàm hỗ trợ bên trên, ta đã có thể lắp ghép và cài đặt thuật toán K-mean hoàn chỉnh.\n",
    "- Thông thường, đối với các thuật toán không biết số lần lập, người ta thường cho thuật toán lặp với một số lần nhất định (điều kiện dừng). Ở đây, ta sẽ cho thuật toán lặp tối đa 200 lần. \n",
    "- Nhiệm vụ của sinh viên: cài đặt hoàn chỉnh hàm ```kmeans_func``` bên dưới."
   ]
  },
  {
   "cell_type": "code",
   "execution_count": 26,
   "id": "7fd015b2",
   "metadata": {},
   "outputs": [],
   "source": [
    "def kmeans_func(X, k, max_iterations):\n",
    "    \"\"\"\n",
    "    Function implement Kmean algorithm\n",
    "    \n",
    "    * Parameters:\n",
    "    X -- \n",
    "    k -- a number, indicate number of clusters\n",
    "    \n",
    "    * Return:\n",
    "    centroids -- a 2D numpy array, indicate K centroid\n",
    "    \"\"\"\n",
    "    \n",
    "    centroids = None\n",
    "    \n",
    "    # Step 1 -- call \"kmean_init_centroids\" function\n",
    "    \n",
    "    # YOUR CODE HERE\n",
    "    centroids = kmean_init_centroids(X,k)\n",
    "    #raise NotImplementedError()\n",
    "    for i in range(max_iterations):\n",
    "        \n",
    "        # Step 2  -- call \"kmean_matrix_distance\" function\n",
    "        \n",
    "        # YOUR CODE HERE\n",
    "        distance = kmean_matrix_distance(X,centroids)\n",
    "        #raise NotImplementedError()\n",
    "\n",
    "        # Step 3 -- call \"kmean_assign_centroids\" function\n",
    "        # YOUR CODE HERE\n",
    "        centroids = kmean_assign_centroids(distance)\n",
    "        #raise NotImplementedError()\n",
    "\n",
    "        # Step 4 -- call \"kmeans_update_centroids\" function\n",
    "        new_centroids = kmeans_update_centroids(X,centroids,k)\n",
    "        # YOUR CODE HERE\n",
    "        #raise NotImplementedError()\n",
    "        # Check stop condition \n",
    "        if has_converged([centroids], new_centroids):\n",
    "            break\n",
    "        else:\n",
    "            centroids = new_centroids\n",
    "    \n",
    "    return centroids"
   ]
  },
  {
   "cell_type": "markdown",
   "id": "48748547",
   "metadata": {},
   "source": [
    "- Sau khi đã thực cài đặt xong hàm K-mean. Ta thực hiện việc huấn luyện.\n",
    "- Ở đây, mình sử dụng câu lệnh ```bank_df.to_numpy()```. Bởi vì ```bank_df``` là một DataFrame của pandas, tuy nhiên đầu vào của chúng ta là mảng numpy 2D. Do đó ta cần sử dụng hàm ```to_numpy()``` để chuyển về mảng 2D numpy."
   ]
  },
  {
   "cell_type": "code",
   "execution_count": 27,
   "id": "d7510b4c",
   "metadata": {},
   "outputs": [],
   "source": [
    "data = bank_df.to_numpy()\n",
    "k = 3\n",
    "max_iterations = 200"
   ]
  },
  {
   "cell_type": "code",
   "execution_count": 28,
   "id": "4b222a1a",
   "metadata": {},
   "outputs": [
    {
     "name": "stdout",
     "output_type": "stream",
     "text": [
      "[[88.42428581 89.09232893]\n",
      " [29.89477131 60.31080598]\n",
      " [72.17990838 35.71752127]]\n"
     ]
    }
   ],
   "source": [
    "centroids = kmeans_func(data, k, max_iterations)\n",
    "print(centroids)"
   ]
  },
  {
   "cell_type": "markdown",
   "id": "2ec29766",
   "metadata": {},
   "source": [
    "## Giá trị chính xác của centroids:\n",
    "- Tùy vào cách cài đặt và giá trị ngẫu nhiên. Tuy nhiên điểm centroids chính xác phải xấp xỉ (thứ tự không quan trọng): \n",
    "    + [20, 60],\n",
    "    + [72, 36],\n",
    "    + [88, 90]\n",
    "    \n",
    "- Nếu khác xa so với các số trên (quá 5 đơn vị) là các bạn đã cài đặt sai. Cần xem lại."
   ]
  },
  {
   "attachments": {
    "image-2.png": {
     "image/png": "[encoded data removed]"
    }
   },
   "cell_type": "markdown",
   "id": "dbcce00c",
   "metadata": {},
   "source": [
    "## Biển diễn centroids sau khi huấn luyện\n",
    "\n",
    "- Ở phần này, mình sẽ giúp các bạn. Các bạn cũng tham khảo đoạn code bên dưới, để làm phần 4 (Dự đoán trên tập dữ liệu mới).\n",
    "- Nếu thuật toán chính xác, kết quả sẽ là như thế này (tương đối):\n",
    "![image-2.png](attachment:image-2.png)"
   ]
  },
  {
   "cell_type": "code",
   "execution_count": 29,
   "id": "4f174413",
   "metadata": {},
   "outputs": [
    {
     "data": {
      "image/png": "[encoded data removed]",
      "text/plain": [
       "<Figure size 432x288 with 1 Axes>"
      ]
     },
     "metadata": {
      "needs_background": "light"
     },
     "output_type": "display_data"
    }
   ],
   "source": [
    "plt.scatter(bank_df[\"annual_income\"], bank_df[\"spending_score\"])\n",
    "for centroid in centroids:\n",
    "    plt.plot(centroid[0], centroid[1], 'ro')"
   ]
  },
  {
   "cell_type": "markdown",
   "id": "f453cbff",
   "metadata": {},
   "source": [
    "# 4. Dự đoán trên tập dữ liệu mới"
   ]
  },
  {
   "cell_type": "markdown",
   "id": "2c40031c",
   "metadata": {},
   "source": [
    "## Dự đoán\n",
    "\n",
    "- Sau khi hoàn thành quá trình gom nhóm, ta có thể áp dụng để phân nhóm một khách hàng mới vào một nhóm cụ thể. \n",
    "\n",
    "- Trong phần này, nhiệm vụ của sinh viên gồm: \n",
    "    + Cho dữ liệu về khách hàng mới có thuộc tính: ```annual_income_test=40, spending_score_test=50```.\n",
    "    + Kết quả phân nhóm được lưu trong biến ```predict_cluster```\n",
    "    \n",
    "    \n",
    "- Quy ước các cụm (sắp xếp theo annual_income):\n",
    "    + [20, 60] -- cụm 0\n",
    "    + [72, 36] -- cụm 1\n",
    "    + [88, 90] -- cum 2\n",
    "    \n",
    "    \n",
    "- **Lưu ý, tọa độ chính xác của các cụm các bạn phải thiết lập lại dựa vào kết quả các bạn huấn luyện mô hình - các bạn sửa biến ```cluster``` bên dưới**. Và có thể lưu trong một dictionary. Để cho mọi việc đơn giản, các bạn được phép cài đặt cứng giá trị các ```cluster```. Ví dụ, của mình sẽ là: \n",
    "\n",
    "```python\n",
    "cluster = {(29.89477131, 60.31080598): 0, \n",
    "             (72.17990838, 35.71752127): 1,\n",
    "             (88.4242858, 89.09232893): 2}\n",
    "```"
   ]
  },
  {
   "cell_type": "code",
   "execution_count": 30,
   "id": "a87d7a56",
   "metadata": {},
   "outputs": [],
   "source": [
    "cluster = {(29.89477131, 60.31080598): 0, \n",
    "           (72.17990838, 35.71752127): 1,\n",
    "           (88.4242858, 89.09232893): 2}\n",
    "\n",
    "annual_income_test = 40\n",
    "spending_score_test = 50\n",
    "testing_data = np.array([annual_income_test, spending_score_test])\n",
    "predict_cluster = None"
   ]
  },
  {
   "cell_type": "code",
   "execution_count": 31,
   "id": "0193f0f8",
   "metadata": {},
   "outputs": [],
   "source": [
    "def predict_cluster(cluster, testing_data):\n",
    "    \"\"\"\n",
    "    Function to predict testing_data in what cluster\n",
    "    \n",
    "    * Parameter:\n",
    "    cluster -- a dictionary, indicate the centroids and the name of the cluster\n",
    "    testing_data -- a 1D numpy array, indicate new data point\n",
    "    \n",
    "    * Return:\n",
    "    predict_result -- a number, indicate the predicting cluster of testing_data\n",
    "    \"\"\"\n",
    "    \n",
    "    predict_result = None\n",
    "\n",
    "    # YOUR CODE HERE\n",
    "\n",
    "    temp = []\n",
    "    for i in cluster:\n",
    "        temp.append(euclidean_distance(np.array(i),testing_data))\n",
    "    euclidean = np.min(temp)\n",
    "    for i in cluster:\n",
    "        if euclidean_distance(np.array(i),testing_data) == np.min(temp):\n",
    "            predict_result = cluster[i]\n",
    "    #raise NotImplementedError()\n",
    "    \n",
    "    return predict_result"
   ]
  },
  {
   "cell_type": "code",
   "execution_count": 32,
   "id": "2bf2d4c5",
   "metadata": {},
   "outputs": [],
   "source": [
    "assert predict_cluster(cluster, testing_data) == 0"
   ]
  },
  {
   "cell_type": "markdown",
   "id": "5b1bf811",
   "metadata": {},
   "source": [
    "## Biểu diễn\n",
    "\n",
    "- Biểu diễn điểm dữ liệu lên đồ thị. Lưu ý, biểu diễn như thế nào là tùy bạn cũng không cần quá đặc sắc, nhưng phải đảm bảo nhìn vào đồ thị là thấy được (ví dụ: màu khác chẳng hạn)."
   ]
  },
  {
   "cell_type": "code",
   "execution_count": 33,
   "id": "86984c27",
   "metadata": {},
   "outputs": [
    {
     "data": {
      "image/png": "[encoded data removed]",
      "text/plain": [
       "<Figure size 432x288 with 1 Axes>"
      ]
     },
     "metadata": {
      "needs_background": "light"
     },
     "output_type": "display_data"
    }
   ],
   "source": [
    "plt.scatter(bank_df[\"annual_income\"], bank_df[\"spending_score\"])\n",
    "for centroid in centroids:\n",
    "    plt.plot(centroid[0], centroid[1], 'k^')\n",
    "plt.plot(testing_data[0],testing_data[1],'rD')\n",
    "plt.show()"
   ]
  }
 ],
 "metadata": {
  "kernelspec": {
   "display_name": "Python 3 (ipykernel)",
   "language": "python",
   "name": "python3"
  },
  "language_info": {
   "codemirror_mode": {
    "name": "ipython",
    "version": 3
   },
   "file_extension": ".py",
   "mimetype": "text/x-python",
   "name": "python",
   "nbconvert_exporter": "python",
   "pygments_lexer": "ipython3",
   "version": "3.9.12"
  }
 },
 "nbformat": 4,
 "nbformat_minor": 5
}
